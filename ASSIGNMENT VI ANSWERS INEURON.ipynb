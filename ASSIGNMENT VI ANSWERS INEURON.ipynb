{
 "cells": [
  {
   "cell_type": "markdown",
   "id": "81af6220",
   "metadata": {},
   "source": [
    "1. What are escape characters, and how do you use them?\n",
    "2. What do the escape characters n and t stand for?\n",
    "3. What is the way to include backslash characters in a string?\n",
    "4. The string \"Howl's Moving Castle\" is a correct value. Why isn't the single quote character in the word Howl's not escaped a problem?\n",
    "5. How do you write a string of newlines if you don't want to use the n character?\n",
    "6. What are the values of the given expressions?\n",
    "'Hello, world!'[1]\n",
    "'Hello, world!'[0:5]\n",
    "'Hello, world!'[:5]\n",
    "'Hello, world!'[3:]\n",
    "\n",
    "7. What are the values of the following expressions?\n",
    "'Hello'.upper()\n",
    "'Hello'.upper().isupper()\n",
    "'Hello'.upper().lower()\n",
    "8. What are the values of the following expressions?\n",
    "'Remember, remember, the fifth of July.'.split()\n",
    "'-'.join('There can only one.'.split())\n",
    "9. What are the methods for right-justifying, left-justifying, and centering a string?\n",
    "10. What is the best way to remove whitespace characters from the start or end?"
   ]
  },
  {
   "cell_type": "markdown",
   "id": "7853c7f3",
   "metadata": {},
   "source": [
    "1 ans:Escape characters represent characters in string values that would otherwise be difficult or impossible to type into code."
   ]
  },
  {
   "cell_type": "markdown",
   "id": "747806a0",
   "metadata": {},
   "source": [
    "2 ans:\\n is a newline; \\t is a tab."
   ]
  },
  {
   "cell_type": "markdown",
   "id": "088c4b50",
   "metadata": {},
   "source": [
    "3 ans:The \\\\ escape character will represent a backslash character."
   ]
  },
  {
   "cell_type": "markdown",
   "id": "8b3bba96",
   "metadata": {},
   "source": [
    "4 ans:The single quote in Howl's is fine because you’ve used double quotes to mark the beginning and end of the string."
   ]
  },
  {
   "cell_type": "markdown",
   "id": "5bfc2e81",
   "metadata": {},
   "source": [
    "5 ans:Multiline strings allow you to use newlines in strings without the \\n escape character."
   ]
  },
  {
   "cell_type": "markdown",
   "id": "332cee42",
   "metadata": {},
   "source": [
    "6 ans:"
   ]
  },
  {
   "cell_type": "code",
   "execution_count": 4,
   "id": "b2abbc6b",
   "metadata": {},
   "outputs": [
    {
     "data": {
      "text/plain": [
       "'e'"
      ]
     },
     "execution_count": 4,
     "metadata": {},
     "output_type": "execute_result"
    }
   ],
   "source": [
    "s='Hello, world!'\n",
    "s[1]"
   ]
  },
  {
   "cell_type": "code",
   "execution_count": 2,
   "id": "fd73584c",
   "metadata": {},
   "outputs": [
    {
     "data": {
      "text/plain": [
       "'Hello'"
      ]
     },
     "execution_count": 2,
     "metadata": {},
     "output_type": "execute_result"
    }
   ],
   "source": [
    "s1='Hello, world!'\n",
    "s1[0:5]"
   ]
  },
  {
   "cell_type": "code",
   "execution_count": 10,
   "id": "d3a286a0",
   "metadata": {},
   "outputs": [
    {
     "data": {
      "text/plain": [
       "'Hello'"
      ]
     },
     "execution_count": 10,
     "metadata": {},
     "output_type": "execute_result"
    }
   ],
   "source": [
    "s2='Hello, world!'\n",
    "s2[:5]"
   ]
  },
  {
   "cell_type": "code",
   "execution_count": 11,
   "id": "212f5bb6",
   "metadata": {},
   "outputs": [
    {
     "data": {
      "text/plain": [
       "'lo, world!'"
      ]
     },
     "execution_count": 11,
     "metadata": {},
     "output_type": "execute_result"
    }
   ],
   "source": [
    "s3='Hello, world!'\n",
    "s3[3:]"
   ]
  },
  {
   "cell_type": "markdown",
   "id": "19dd41b3",
   "metadata": {},
   "source": [
    "7 ans:"
   ]
  },
  {
   "cell_type": "code",
   "execution_count": 12,
   "id": "461f1fec",
   "metadata": {},
   "outputs": [
    {
     "data": {
      "text/plain": [
       "'HELLO'"
      ]
     },
     "execution_count": 12,
     "metadata": {},
     "output_type": "execute_result"
    }
   ],
   "source": [
    "s4='Hello'\n",
    "s4.upper()"
   ]
  },
  {
   "cell_type": "code",
   "execution_count": 15,
   "id": "7f695790",
   "metadata": {},
   "outputs": [
    {
     "data": {
      "text/plain": [
       "True"
      ]
     },
     "execution_count": 15,
     "metadata": {},
     "output_type": "execute_result"
    }
   ],
   "source": [
    "s5='Hello'\n",
    "s5.upper().isupper()"
   ]
  },
  {
   "cell_type": "code",
   "execution_count": 16,
   "id": "7abb8d48",
   "metadata": {},
   "outputs": [
    {
     "data": {
      "text/plain": [
       "'hello'"
      ]
     },
     "execution_count": 16,
     "metadata": {},
     "output_type": "execute_result"
    }
   ],
   "source": [
    "s6='Hello'\n",
    "s6.upper().lower()"
   ]
  },
  {
   "cell_type": "markdown",
   "id": "367208c8",
   "metadata": {},
   "source": [
    "8 ans:"
   ]
  },
  {
   "cell_type": "code",
   "execution_count": 18,
   "id": "b6bc2dce",
   "metadata": {},
   "outputs": [
    {
     "data": {
      "text/plain": [
       "['Remember,', 'remember,', 'the', 'fifth', 'of', 'July.']"
      ]
     },
     "execution_count": 18,
     "metadata": {},
     "output_type": "execute_result"
    }
   ],
   "source": [
    "s7=('Remember, remember, the fifth of July.')\n",
    "s7.split()"
   ]
  },
  {
   "cell_type": "code",
   "execution_count": 45,
   "id": "c80f20c8",
   "metadata": {},
   "outputs": [
    {
     "data": {
      "text/plain": [
       "['T-h-e-r-e-', '-c-a-n-', '-o-n-l-y-', '-o-n-e-.']"
      ]
     },
     "execution_count": 45,
     "metadata": {},
     "output_type": "execute_result"
    }
   ],
   "source": [
    "s8='-'.join('There can only one.')\n",
    "s8.split()"
   ]
  },
  {
   "cell_type": "markdown",
   "id": "d921e910",
   "metadata": {},
   "source": [
    "9 ans:The rjust(), ljust(), and center() string methods, respectively."
   ]
  },
  {
   "cell_type": "code",
   "execution_count": 102,
   "id": "9aae5717",
   "metadata": {},
   "outputs": [
    {
     "data": {
      "text/plain": [
       "'  rajitha'"
      ]
     },
     "execution_count": 102,
     "metadata": {},
     "output_type": "execute_result"
    }
   ],
   "source": [
    "s9=\"  rajitha  \"\n",
    "s9.rstrip()"
   ]
  },
  {
   "cell_type": "code",
   "execution_count": 70,
   "id": "daf959aa",
   "metadata": {},
   "outputs": [
    {
     "data": {
      "text/plain": [
       "'rajitha  '"
      ]
     },
     "execution_count": 70,
     "metadata": {},
     "output_type": "execute_result"
    }
   ],
   "source": [
    "s9.lstrip()"
   ]
  },
  {
   "cell_type": "code",
   "execution_count": 98,
   "id": "996d8dca",
   "metadata": {},
   "outputs": [
    {
     "data": {
      "text/plain": [
       "'           rajitha            '"
      ]
     },
     "execution_count": 98,
     "metadata": {},
     "output_type": "execute_result"
    }
   ],
   "source": [
    "s10=\"rajitha\"\n",
    "s10.center(30)"
   ]
  },
  {
   "cell_type": "markdown",
   "id": "c3bb4ef5",
   "metadata": {},
   "source": [
    "10 ans:The lstrip() and rstrip() methods remove whitespace from the left and right ends of a string, respectively."
   ]
  },
  {
   "cell_type": "code",
   "execution_count": 99,
   "id": "07c6404c",
   "metadata": {},
   "outputs": [
    {
     "data": {
      "text/plain": [
       "'jaiswal  '"
      ]
     },
     "execution_count": 99,
     "metadata": {},
     "output_type": "execute_result"
    }
   ],
   "source": [
    "s11=\"  jaiswal  \"\n",
    "s11.lstrip()"
   ]
  },
  {
   "cell_type": "code",
   "execution_count": 100,
   "id": "389a266c",
   "metadata": {},
   "outputs": [
    {
     "data": {
      "text/plain": [
       "'  jaiswal'"
      ]
     },
     "execution_count": 100,
     "metadata": {},
     "output_type": "execute_result"
    }
   ],
   "source": [
    "s11.rstrip()"
   ]
  }
 ],
 "metadata": {
  "kernelspec": {
   "display_name": "Python 3 (ipykernel)",
   "language": "python",
   "name": "python3"
  },
  "language_info": {
   "codemirror_mode": {
    "name": "ipython",
    "version": 3
   },
   "file_extension": ".py",
   "mimetype": "text/x-python",
   "name": "python",
   "nbconvert_exporter": "python",
   "pygments_lexer": "ipython3",
   "version": "3.9.12"
  }
 },
 "nbformat": 4,
 "nbformat_minor": 5
}
